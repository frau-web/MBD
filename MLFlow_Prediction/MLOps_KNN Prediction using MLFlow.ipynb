{
 "cells": [
  {
   "cell_type": "markdown",
   "metadata": {},
   "source": [
    "# ML Ops: Individual Assignment - ML Flow"
   ]
  },
  {
   "cell_type": "markdown",
   "metadata": {},
   "source": [
    "June 2021"
   ]
  },
  {
   "cell_type": "markdown",
   "metadata": {},
   "source": [
    "## 1. Load Libraries and Dataset"
   ]
  },
  {
   "cell_type": "code",
   "execution_count": 122,
   "metadata": {},
   "outputs": [],
   "source": [
    "import pandas as pd\n",
    "from sklearn.datasets import load_boston\n",
    "from sklearn.model_selection import train_test_split\n",
    "from sklearn.preprocessing import StandardScaler\n",
    "from sklearn.metrics import accuracy_score,precision_score,recall_score\n",
    "from sklearn.neighbors import KNeighborsClassifier\n",
    "import numpy as np\n",
    "import matplotlib.pyplot as plt\n",
    "import mlflow\n",
    "import mlflow.sklearn\n",
    "import shutil  \n",
    "import os"
   ]
  },
  {
   "cell_type": "code",
   "execution_count": 123,
   "metadata": {},
   "outputs": [],
   "source": [
    "#Delete last runs directory\n",
    "try:\n",
    "    shutil.rmtree('./mlruns')\n",
    "except FileNotFoundError:\n",
    "    print(\"WARNING: Can't find folder mlruns\")"
   ]
  },
  {
   "cell_type": "code",
   "execution_count": 124,
   "metadata": {},
   "outputs": [
    {
     "data": {
      "text/html": [
       "<div>\n",
       "<style scoped>\n",
       "    .dataframe tbody tr th:only-of-type {\n",
       "        vertical-align: middle;\n",
       "    }\n",
       "\n",
       "    .dataframe tbody tr th {\n",
       "        vertical-align: top;\n",
       "    }\n",
       "\n",
       "    .dataframe thead th {\n",
       "        text-align: right;\n",
       "    }\n",
       "</style>\n",
       "<table border=\"1\" class=\"dataframe\">\n",
       "  <thead>\n",
       "    <tr style=\"text-align: right;\">\n",
       "      <th></th>\n",
       "      <th>fixed acidity</th>\n",
       "      <th>volatile acidity</th>\n",
       "      <th>citric acid</th>\n",
       "      <th>residual sugar</th>\n",
       "      <th>chlorides</th>\n",
       "      <th>free sulfur dioxide</th>\n",
       "      <th>total sulfur dioxide</th>\n",
       "      <th>density</th>\n",
       "      <th>pH</th>\n",
       "      <th>sulphates</th>\n",
       "      <th>alcohol</th>\n",
       "      <th>quality</th>\n",
       "    </tr>\n",
       "  </thead>\n",
       "  <tbody>\n",
       "    <tr>\n",
       "      <th>0</th>\n",
       "      <td>7.4</td>\n",
       "      <td>0.70</td>\n",
       "      <td>0.00</td>\n",
       "      <td>1.9</td>\n",
       "      <td>0.076</td>\n",
       "      <td>11.0</td>\n",
       "      <td>34.0</td>\n",
       "      <td>0.9978</td>\n",
       "      <td>3.51</td>\n",
       "      <td>0.56</td>\n",
       "      <td>9.4</td>\n",
       "      <td>5</td>\n",
       "    </tr>\n",
       "    <tr>\n",
       "      <th>1</th>\n",
       "      <td>7.8</td>\n",
       "      <td>0.88</td>\n",
       "      <td>0.00</td>\n",
       "      <td>2.6</td>\n",
       "      <td>0.098</td>\n",
       "      <td>25.0</td>\n",
       "      <td>67.0</td>\n",
       "      <td>0.9968</td>\n",
       "      <td>3.20</td>\n",
       "      <td>0.68</td>\n",
       "      <td>9.8</td>\n",
       "      <td>5</td>\n",
       "    </tr>\n",
       "    <tr>\n",
       "      <th>2</th>\n",
       "      <td>7.8</td>\n",
       "      <td>0.76</td>\n",
       "      <td>0.04</td>\n",
       "      <td>2.3</td>\n",
       "      <td>0.092</td>\n",
       "      <td>15.0</td>\n",
       "      <td>54.0</td>\n",
       "      <td>0.9970</td>\n",
       "      <td>3.26</td>\n",
       "      <td>0.65</td>\n",
       "      <td>9.8</td>\n",
       "      <td>5</td>\n",
       "    </tr>\n",
       "    <tr>\n",
       "      <th>3</th>\n",
       "      <td>11.2</td>\n",
       "      <td>0.28</td>\n",
       "      <td>0.56</td>\n",
       "      <td>1.9</td>\n",
       "      <td>0.075</td>\n",
       "      <td>17.0</td>\n",
       "      <td>60.0</td>\n",
       "      <td>0.9980</td>\n",
       "      <td>3.16</td>\n",
       "      <td>0.58</td>\n",
       "      <td>9.8</td>\n",
       "      <td>6</td>\n",
       "    </tr>\n",
       "    <tr>\n",
       "      <th>4</th>\n",
       "      <td>7.4</td>\n",
       "      <td>0.70</td>\n",
       "      <td>0.00</td>\n",
       "      <td>1.9</td>\n",
       "      <td>0.076</td>\n",
       "      <td>11.0</td>\n",
       "      <td>34.0</td>\n",
       "      <td>0.9978</td>\n",
       "      <td>3.51</td>\n",
       "      <td>0.56</td>\n",
       "      <td>9.4</td>\n",
       "      <td>5</td>\n",
       "    </tr>\n",
       "  </tbody>\n",
       "</table>\n",
       "</div>"
      ],
      "text/plain": [
       "   fixed acidity  volatile acidity  citric acid  residual sugar  chlorides  \\\n",
       "0            7.4              0.70         0.00             1.9      0.076   \n",
       "1            7.8              0.88         0.00             2.6      0.098   \n",
       "2            7.8              0.76         0.04             2.3      0.092   \n",
       "3           11.2              0.28         0.56             1.9      0.075   \n",
       "4            7.4              0.70         0.00             1.9      0.076   \n",
       "\n",
       "   free sulfur dioxide  total sulfur dioxide  density    pH  sulphates  \\\n",
       "0                 11.0                  34.0   0.9978  3.51       0.56   \n",
       "1                 25.0                  67.0   0.9968  3.20       0.68   \n",
       "2                 15.0                  54.0   0.9970  3.26       0.65   \n",
       "3                 17.0                  60.0   0.9980  3.16       0.58   \n",
       "4                 11.0                  34.0   0.9978  3.51       0.56   \n",
       "\n",
       "   alcohol  quality  \n",
       "0      9.4        5  \n",
       "1      9.8        5  \n",
       "2      9.8        5  \n",
       "3      9.8        6  \n",
       "4      9.4        5  "
      ]
     },
     "execution_count": 124,
     "metadata": {},
     "output_type": "execute_result"
    }
   ],
   "source": [
    "# Load Data\n",
    "# Download Dataset from: https://www.kaggle.com/uciml/red-wine-quality-cortez-et-al-2009\n",
    "path = \"C:/Users/Tini/OneDrive/04_Electives/04_MLOps/02_Ind Assignment/winequality-red.csv\"\n",
    "df = pd.read_csv(path,sep = \",\")\n",
    "df.head()"
   ]
  },
  {
   "cell_type": "code",
   "execution_count": 125,
   "metadata": {},
   "outputs": [],
   "source": [
    "# Split into test & train set\n",
    "\n",
    "x = df.drop(\"quality\", axis=1)\n",
    "y = df.quality\n",
    "\n",
    "\n",
    "x_train, x_test, y_train, y_test = train_test_split(x,y,test_size = 0.20,random_state=42)"
   ]
  },
  {
   "cell_type": "code",
   "execution_count": 126,
   "metadata": {},
   "outputs": [],
   "source": [
    "# Scale the X data\n",
    "scaler = StandardScaler()\n",
    "x_train = scaler.fit_transform(x_train)\n",
    "x_test = scaler.transform(x_test)"
   ]
  },
  {
   "cell_type": "markdown",
   "metadata": {},
   "source": [
    "## 2. Set up Model"
   ]
  },
  {
   "cell_type": "code",
   "execution_count": 127,
   "metadata": {},
   "outputs": [],
   "source": [
    "def calculate_errors(y,y_pred):\n",
    "    accuracy = accuracy_score(y,y_pred)\n",
    "    precision = precision_score(y, y_pred, average = \"macro\", labels=np.unique(y_pred))\n",
    "    recall = recall_score(y,y_pred, average = \"macro\",labels=np.unique(y_pred))\n",
    "    y,y_pred = np.array(y), np.array(y_pred)\n",
    "    return accuracy,precision,recall "
   ]
  },
  {
   "cell_type": "code",
   "execution_count": 128,
   "metadata": {},
   "outputs": [],
   "source": [
    "def train_knn_classifier(n,p,exp = None):\n",
    "    with mlflow.start_run(experiment_id=exp): #start mlflow run\n",
    "        knn = KNeighborsClassifier(n_neighbors= n, p=p, metric = \"minkowski\", weights = \"distance\") #, weights=w)\n",
    "        knn.fit(x_train,y_train)\n",
    "        y_pred = knn.predict(x_test)\n",
    "        \n",
    "        #calculate errors\n",
    "        accuracy, precision, recall = calculate_errors(y_test,y_pred)\n",
    "        errors = accuracy,precision,recall #,f1_score\n",
    "        print(\"accuracy:{0:.3f}, precision:{1:.2f}, recall:{2:.2f}\".format(accuracy,precision,recall))\n",
    "        \n",
    "        #log metris and parmeters\n",
    "        mlflow.log_metrics({\"Accuracy\":accuracy,\"Precision\":precision, \"Recall\":recall})\n",
    "        mlflow.log_params({\"n_neighbors\":n, \"p\": p})\n",
    "        \n",
    "        #register model\n",
    "        mlflow.sklearn.log_model(knn, \"model\")\n",
    "        \n",
    "        #save error plot\n",
    "        plt.figure()\n",
    "        plt.bar(['accuracy','precision','recall'],errors,color=['blue','red','green']);\n",
    "        plt.title(\"Errors\")\n",
    "        plt.savefig(\"errors.png\")\n",
    "        plt.close()\n",
    "        mlflow.log_artifact(\"errors.png\")"
   ]
  },
  {
   "cell_type": "markdown",
   "metadata": {},
   "source": [
    "## 3. Train and Predict - Multi-classes"
   ]
  },
  {
   "cell_type": "code",
   "execution_count": 129,
   "metadata": {},
   "outputs": [],
   "source": [
    "metric_list = ['euclidean', 'manhattan', 'chebyshev','minkowski', 'wminkowski', 'seuclidean','mahalanobis']\n",
    "weight_list = ['uniform', 'distance']"
   ]
  },
  {
   "cell_type": "code",
   "execution_count": 130,
   "metadata": {
    "scrolled": false
   },
   "outputs": [
    {
     "name": "stdout",
     "output_type": "stream",
     "text": [
      "accuracy:0.625, precision:0.32, recall:0.32\n",
      "accuracy:0.622, precision:0.34, recall:0.34\n",
      "accuracy:0.625, precision:0.32, recall:0.32\n",
      "accuracy:0.622, precision:0.34, recall:0.34\n",
      "accuracy:0.647, precision:0.42, recall:0.42\n",
      "accuracy:0.625, precision:0.31, recall:0.32\n",
      "accuracy:0.656, precision:0.39, recall:0.40\n",
      "accuracy:0.603, precision:0.35, recall:0.33\n",
      "accuracy:0.653, precision:0.39, recall:0.40\n",
      "accuracy:0.625, precision:0.37, recall:0.39\n",
      "accuracy:0.637, precision:0.37, recall:0.39\n",
      "accuracy:0.644, precision:0.48, recall:0.41\n",
      "accuracy:0.656, precision:0.39, recall:0.40\n",
      "accuracy:0.653, precision:0.39, recall:0.40\n",
      "accuracy:0.669, precision:0.39, recall:0.41\n",
      "accuracy:0.653, precision:0.48, recall:0.50\n",
      "accuracy:0.653, precision:0.64, recall:0.67\n",
      "accuracy:0.669, precision:0.50, recall:0.52\n",
      "accuracy:0.669, precision:0.50, recall:0.52\n",
      "accuracy:0.678, precision:0.50, recall:0.52\n",
      "accuracy:0.656, precision:0.48, recall:0.51\n",
      "accuracy:0.666, precision:0.50, recall:0.51\n",
      "accuracy:0.675, precision:0.50, recall:0.52\n",
      "accuracy:0.656, precision:0.49, recall:0.51\n",
      "accuracy:0.672, precision:0.66, recall:0.69\n",
      "accuracy:0.678, precision:0.67, recall:0.70\n",
      "accuracy:0.678, precision:0.66, recall:0.69\n",
      "accuracy:0.659, precision:0.65, recall:0.68\n",
      "accuracy:0.681, precision:0.67, recall:0.69\n",
      "accuracy:0.659, precision:0.66, recall:0.68\n",
      "accuracy:0.678, precision:0.66, recall:0.68\n",
      "accuracy:0.656, precision:0.65, recall:0.69\n",
      "accuracy:0.675, precision:0.67, recall:0.69\n",
      "accuracy:0.666, precision:0.66, recall:0.69\n",
      "accuracy:0.672, precision:0.66, recall:0.69\n",
      "accuracy:0.647, precision:0.65, recall:0.66\n",
      "accuracy:0.675, precision:0.66, recall:0.69\n",
      "accuracy:0.650, precision:0.64, recall:0.65\n",
      "accuracy:0.669, precision:0.66, recall:0.68\n",
      "accuracy:0.641, precision:0.64, recall:0.65\n",
      "accuracy:0.669, precision:0.66, recall:0.67\n",
      "accuracy:0.672, precision:0.66, recall:0.67\n",
      "accuracy:0.672, precision:0.66, recall:0.68\n",
      "accuracy:0.669, precision:0.66, recall:0.67\n",
      "accuracy:0.659, precision:0.65, recall:0.67\n",
      "accuracy:0.672, precision:0.66, recall:0.67\n",
      "accuracy:0.650, precision:0.64, recall:0.65\n",
      "accuracy:0.656, precision:0.65, recall:0.66\n",
      "accuracy:0.662, precision:0.65, recall:0.66\n",
      "accuracy:0.659, precision:0.65, recall:0.67\n",
      "accuracy:0.662, precision:0.65, recall:0.67\n",
      "accuracy:0.653, precision:0.64, recall:0.66\n",
      "accuracy:0.659, precision:0.65, recall:0.67\n",
      "accuracy:0.656, precision:0.65, recall:0.66\n",
      "accuracy:0.653, precision:0.64, recall:0.65\n",
      "accuracy:0.644, precision:0.64, recall:0.65\n",
      "accuracy:0.656, precision:0.64, recall:0.65\n",
      "accuracy:0.656, precision:0.66, recall:0.66\n",
      "accuracy:0.659, precision:0.65, recall:0.66\n",
      "accuracy:0.653, precision:0.65, recall:0.66\n",
      "accuracy:0.659, precision:0.65, recall:0.66\n",
      "accuracy:0.653, precision:0.65, recall:0.65\n",
      "accuracy:0.669, precision:0.66, recall:0.67\n",
      "accuracy:0.656, precision:0.65, recall:0.65\n",
      "accuracy:0.662, precision:0.65, recall:0.66\n",
      "accuracy:0.672, precision:0.67, recall:0.68\n",
      "accuracy:0.653, precision:0.64, recall:0.65\n",
      "accuracy:0.653, precision:0.64, recall:0.65\n",
      "accuracy:0.650, precision:0.63, recall:0.63\n",
      "accuracy:0.650, precision:0.64, recall:0.64\n",
      "accuracy:0.656, precision:0.64, recall:0.65\n",
      "accuracy:0.647, precision:0.64, recall:0.63\n",
      "accuracy:0.659, precision:0.64, recall:0.65\n",
      "accuracy:0.653, precision:0.65, recall:0.64\n",
      "accuracy:0.650, precision:0.63, recall:0.64\n",
      "accuracy:0.637, precision:0.62, recall:0.62\n",
      "accuracy:0.637, precision:0.62, recall:0.63\n",
      "accuracy:0.650, precision:0.64, recall:0.63\n",
      "accuracy:0.647, precision:0.63, recall:0.63\n",
      "accuracy:0.656, precision:0.65, recall:0.65\n"
     ]
    }
   ],
   "source": [
    " for n in range(1,41):\n",
    "        for p in range(1,3):\n",
    "                    train_knn_classifier(n,p)"
   ]
  },
  {
   "cell_type": "markdown",
   "metadata": {},
   "source": [
    "Our classifier predicts with an accuracy of 62-67%. Nothing to really win big prizes so in a different setting we would focus next on improving the classifier, e.g. through feature engineering, up/downsampling of unbalanced classes, cross-validation, using other classifier algorithms etc. "
   ]
  },
  {
   "cell_type": "code",
   "execution_count": 131,
   "metadata": {},
   "outputs": [
    {
     "name": "stdout",
     "output_type": "stream",
     "text": [
      "Minimum error run_id:  753355a4c0f541e9b6a86373406deaf7\n"
     ]
    }
   ],
   "source": [
    "# Find the best model\n",
    "df_runs = mlflow.search_runs()\n",
    "best_run_id = df_runs.loc[df_runs['metrics.Accuracy'].idxmax()]['run_id']\n",
    "print(\"Minimum error run_id: \",best_run_id)"
   ]
  },
  {
   "cell_type": "code",
   "execution_count": 132,
   "metadata": {},
   "outputs": [
    {
     "name": "stdout",
     "output_type": "stream",
     "text": [
      "Number of neighbors that maximizes accuracy:\n"
     ]
    },
    {
     "data": {
      "text/html": [
       "<div>\n",
       "<style scoped>\n",
       "    .dataframe tbody tr th:only-of-type {\n",
       "        vertical-align: middle;\n",
       "    }\n",
       "\n",
       "    .dataframe tbody tr th {\n",
       "        vertical-align: top;\n",
       "    }\n",
       "\n",
       "    .dataframe thead th {\n",
       "        text-align: right;\n",
       "    }\n",
       "</style>\n",
       "<table border=\"1\" class=\"dataframe\">\n",
       "  <thead>\n",
       "    <tr style=\"text-align: right;\">\n",
       "      <th></th>\n",
       "      <th>metrics.Accuracy</th>\n",
       "      <th>params.n_neighbors</th>\n",
       "    </tr>\n",
       "  </thead>\n",
       "  <tbody>\n",
       "    <tr>\n",
       "      <th>51</th>\n",
       "      <td>0.68125</td>\n",
       "      <td>15</td>\n",
       "    </tr>\n",
       "  </tbody>\n",
       "</table>\n",
       "</div>"
      ],
      "text/plain": [
       "    metrics.Accuracy params.n_neighbors\n",
       "51           0.68125                 15"
      ]
     },
     "execution_count": 132,
     "metadata": {},
     "output_type": "execute_result"
    }
   ],
   "source": [
    "# The number of neighbors that maximizes accuracy\n",
    "print(\"Number of neighbors that maximizes accuracy:\")\n",
    "df_runs[df_runs[\"run_id\"]== best_run_id][[\"metrics.Accuracy\",\"params.n_neighbors\"]]"
   ]
  },
  {
   "cell_type": "markdown",
   "metadata": {},
   "source": [
    "Alternatively, we can use the $mlflow ui command in the cmd-line to analzye the different model runs in the ML Flow Tool. "
   ]
  },
  {
   "cell_type": "markdown",
   "metadata": {},
   "source": [
    "## 4. Train for binary classification - Good or bad wine"
   ]
  },
  {
   "cell_type": "code",
   "execution_count": 138,
   "metadata": {},
   "outputs": [
    {
     "data": {
      "text/plain": [
       "0    1382\n",
       "1     217\n",
       "Name: quality, dtype: int64"
      ]
     },
     "execution_count": 138,
     "metadata": {},
     "output_type": "execute_result"
    }
   ],
   "source": [
    "#If quality value is less than or eqaul to 6 then it will be in class 0\n",
    "#If quality value is greater than 6  then it will be in class 1\n",
    "df = df.copy()\n",
    "df['quality'] = np.where(df['quality'] > 6, 1, 0)\n",
    "df['quality'].value_counts()"
   ]
  },
  {
   "cell_type": "code",
   "execution_count": 139,
   "metadata": {},
   "outputs": [],
   "source": [
    "# Split into test & train set\n",
    "\n",
    "x = df.drop(\"quality\", axis=1)\n",
    "y = df.quality\n",
    "\n",
    "x_train, x_test, y_train, y_test = train_test_split(x,y,test_size = 0.20,random_state=42)"
   ]
  },
  {
   "cell_type": "code",
   "execution_count": 140,
   "metadata": {},
   "outputs": [],
   "source": [
    "# Scale the X data\n",
    "scaler = StandardScaler()\n",
    "x_train = scaler.fit_transform(x_train)\n",
    "x_test = scaler.transform(x_test)"
   ]
  },
  {
   "cell_type": "code",
   "execution_count": 141,
   "metadata": {},
   "outputs": [
    {
     "name": "stdout",
     "output_type": "stream",
     "text": [
      "accuracy:0.887, precision:0.77, recall:0.79\n",
      "accuracy:0.887, precision:0.77, recall:0.79\n",
      "accuracy:0.903, precision:0.81, recall:0.81\n",
      "accuracy:0.894, precision:0.79, recall:0.79\n",
      "accuracy:0.916, precision:0.84, recall:0.81\n",
      "accuracy:0.903, precision:0.81, recall:0.78\n",
      "accuracy:0.912, precision:0.84, recall:0.79\n",
      "accuracy:0.906, precision:0.83, recall:0.78\n",
      "accuracy:0.922, precision:0.86, recall:0.81\n",
      "accuracy:0.912, precision:0.84, recall:0.79\n",
      "accuracy:0.922, precision:0.86, recall:0.80\n",
      "accuracy:0.909, precision:0.83, recall:0.80\n",
      "accuracy:0.909, precision:0.83, recall:0.78\n",
      "accuracy:0.903, precision:0.82, recall:0.78\n",
      "accuracy:0.916, precision:0.85, recall:0.79\n",
      "accuracy:0.906, precision:0.83, recall:0.77\n",
      "accuracy:0.909, precision:0.83, recall:0.78\n",
      "accuracy:0.912, precision:0.85, recall:0.77\n",
      "accuracy:0.906, precision:0.83, recall:0.77\n",
      "accuracy:0.906, precision:0.83, recall:0.76\n",
      "accuracy:0.903, precision:0.83, recall:0.75\n",
      "accuracy:0.900, precision:0.82, recall:0.74\n",
      "accuracy:0.894, precision:0.81, recall:0.73\n",
      "accuracy:0.891, precision:0.80, recall:0.72\n",
      "accuracy:0.887, precision:0.79, recall:0.72\n",
      "accuracy:0.887, precision:0.79, recall:0.71\n",
      "accuracy:0.887, precision:0.79, recall:0.71\n",
      "accuracy:0.894, precision:0.81, recall:0.72\n",
      "accuracy:0.887, precision:0.80, recall:0.70\n",
      "accuracy:0.884, precision:0.79, recall:0.69\n",
      "accuracy:0.887, precision:0.80, recall:0.70\n",
      "accuracy:0.881, precision:0.78, recall:0.69\n",
      "accuracy:0.884, precision:0.79, recall:0.69\n",
      "accuracy:0.884, precision:0.79, recall:0.69\n",
      "accuracy:0.884, precision:0.79, recall:0.69\n",
      "accuracy:0.884, precision:0.79, recall:0.69\n",
      "accuracy:0.887, precision:0.80, recall:0.70\n",
      "accuracy:0.891, precision:0.81, recall:0.71\n",
      "accuracy:0.894, precision:0.82, recall:0.71\n"
     ]
    }
   ],
   "source": [
    " for n in range(1,40):\n",
    "        for p in np.arange(1,2):\n",
    "                    train_knn_classifier(n,p)"
   ]
  },
  {
   "cell_type": "code",
   "execution_count": 142,
   "metadata": {},
   "outputs": [
    {
     "name": "stdout",
     "output_type": "stream",
     "text": [
      "Minimum error run_id:  9da3e8b49dff4de9bf628c6c11068792\n"
     ]
    }
   ],
   "source": [
    "# Find the best model\n",
    "df_runs = mlflow.search_runs()\n",
    "best_run_id = df_runs.loc[df_runs['metrics.Accuracy'].idxmax()]['run_id']\n",
    "print(\"Minimum error run_id: \",best_run_id)"
   ]
  },
  {
   "cell_type": "code",
   "execution_count": 143,
   "metadata": {},
   "outputs": [
    {
     "name": "stdout",
     "output_type": "stream",
     "text": [
      "Number of neighbors that maximizes accuracy:\n"
     ]
    },
    {
     "data": {
      "text/html": [
       "<div>\n",
       "<style scoped>\n",
       "    .dataframe tbody tr th:only-of-type {\n",
       "        vertical-align: middle;\n",
       "    }\n",
       "\n",
       "    .dataframe tbody tr th {\n",
       "        vertical-align: top;\n",
       "    }\n",
       "\n",
       "    .dataframe thead th {\n",
       "        text-align: right;\n",
       "    }\n",
       "</style>\n",
       "<table border=\"1\" class=\"dataframe\">\n",
       "  <thead>\n",
       "    <tr style=\"text-align: right;\">\n",
       "      <th></th>\n",
       "      <th>metrics.Accuracy</th>\n",
       "      <th>params.n_neighbors</th>\n",
       "    </tr>\n",
       "  </thead>\n",
       "  <tbody>\n",
       "    <tr>\n",
       "      <th>28</th>\n",
       "      <td>0.921875</td>\n",
       "      <td>11</td>\n",
       "    </tr>\n",
       "  </tbody>\n",
       "</table>\n",
       "</div>"
      ],
      "text/plain": [
       "    metrics.Accuracy params.n_neighbors\n",
       "28          0.921875                 11"
      ]
     },
     "execution_count": 143,
     "metadata": {},
     "output_type": "execute_result"
    }
   ],
   "source": [
    "# The number of neighbors that maximizes accuracy\n",
    "print(\"Number of neighbors that maximizes accuracy:\")\n",
    "df_runs[df_runs[\"run_id\"]== best_run_id][[\"metrics.Accuracy\",\"params.n_neighbors\"]]"
   ]
  },
  {
   "cell_type": "code",
   "execution_count": null,
   "metadata": {},
   "outputs": [],
   "source": []
  },
  {
   "cell_type": "code",
   "execution_count": 121,
   "metadata": {},
   "outputs": [
    {
     "name": "stdout",
     "output_type": "stream",
     "text": [
      "range(1, 3)\n"
     ]
    }
   ],
   "source": [
    "print(range(1,3))"
   ]
  },
  {
   "cell_type": "code",
   "execution_count": null,
   "metadata": {},
   "outputs": [],
   "source": []
  }
 ],
 "metadata": {
  "kernelspec": {
   "display_name": "Python 3",
   "language": "python",
   "name": "python3"
  },
  "language_info": {
   "codemirror_mode": {
    "name": "ipython",
    "version": 3
   },
   "file_extension": ".py",
   "mimetype": "text/x-python",
   "name": "python",
   "nbconvert_exporter": "python",
   "pygments_lexer": "ipython3",
   "version": "3.8.3"
  }
 },
 "nbformat": 4,
 "nbformat_minor": 4
}
